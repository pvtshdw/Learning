{
 "cells": [
  {
   "attachments": {},
   "cell_type": "markdown",
   "metadata": {},
   "source": [
    "# Read DMARC reports\n",
    "This notebook will open the selected DMARC report, parse it, and display the output in tabular format."
   ]
  },
  {
   "attachments": {},
   "cell_type": "markdown",
   "metadata": {},
   "source": [
    "## Setup\n",
    "Install the required components "
   ]
  },
  {
   "cell_type": "code",
   "execution_count": null,
   "metadata": {},
   "outputs": [],
   "source": [
    "import sys\n",
    "!{sys.executable} -m pip install pandas ipywidgets"
   ]
  },
  {
   "attachments": {},
   "cell_type": "markdown",
   "metadata": {},
   "source": [
    "## Function to read the report"
   ]
  },
  {
   "cell_type": "code",
   "execution_count": null,
   "metadata": {},
   "outputs": [],
   "source": [
    "import xml.etree.ElementTree as ET\n",
    "import pandas as pd\n",
    "\n",
    "def read_report(report_xml):\n",
    "    # xml_data = open('properties.xml', 'r').read()   # Read file\n",
    "    root = ET.XML(report_xml) # Parse XML\n",
    "\n",
    "    data = []\n",
    "    cols = []\n",
    "    for i, child in enumerate(root):\n",
    "        data.append([subchild.text for subchild in child])\n",
    "        cols.append(child.tag)\n",
    "\n",
    "    df = pd.DataFrame(data).T   # Write in DF and transspose it\n",
    "    df.columns = cols   # Update column names\n",
    "    return df"
   ]
  },
  {
   "attachments": {},
   "cell_type": "markdown",
   "metadata": {},
   "source": [
    "# Process a DMARC report"
   ]
  },
  {
   "cell_type": "code",
   "execution_count": null,
   "metadata": {},
   "outputs": [],
   "source": [
    "import ipywidgets as widgets\n",
    "\n",
    "uploader = widgets.FileUpload(accept='.xml', multiple=False)\n",
    "display(uploader)\n",
    "\n",
    "uploaded_file = uploader.value[0]\n",
    "uploaded_file.size\n",
    "uploaded_file.content"
   ]
  }
 ],
 "metadata": {
  "kernelspec": {
   "display_name": ".venv",
   "language": "python",
   "name": "python3"
  },
  "language_info": {
   "codemirror_mode": {
    "name": "ipython",
    "version": 3
   },
   "file_extension": ".py",
   "mimetype": "text/x-python",
   "name": "python",
   "nbconvert_exporter": "python",
   "pygments_lexer": "ipython3",
   "version": "3.11.3"
  },
  "orig_nbformat": 4
 },
 "nbformat": 4,
 "nbformat_minor": 2
}
