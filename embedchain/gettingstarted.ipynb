{
 "cells": [
  {
   "cell_type": "code",
   "execution_count": null,
   "metadata": {
    "dotnet_interactive": {
     "language": "csharp"
    },
    "polyglot_notebook": {
     "kernelName": "csharp"
    }
   },
   "outputs": [],
   "source": [
    "import os\n",
    "from dotenv import load_dotenv\n",
    "from embedchain import Pipeline as App\n",
    "app = App()\n",
    "\n",
    "\n",
    "# Load environment variables\n",
    "load_dotenv(os.path.join(os.getcwd(), '.env'))  # This also sets all the environment variables needed by OpenAI\n",
    "\n",
    "app = App.from_config(config_path=os.path.join(os.getcwd(), 'config.yaml'))\n"
   ]
  },
  {
   "cell_type": "code",
   "execution_count": null,
   "metadata": {},
   "outputs": [],
   "source": [
    "# Embed resources\n",
    "# app.add(os.path.join(os.getcwd(), 'ZSP2023DRTest.pdf'), data_type='pdf_file')\n",
    "# app.add(os.path.join(os.getcwd(), 'ZRD2023DRTest.pdf'), data_type='pdf_file')\n",
    "# app.add(os.path.join(os.getcwd(), 'VulnMgmt.pdf'), data_type='pdf_file')\n",
    "app.add(os.path.join(os.getcwd(), 'pdfs\\\\VulnMgmt.pdf'), data_type='pdf_file')"
   ]
  },
  {
   "cell_type": "code",
   "execution_count": null,
   "metadata": {},
   "outputs": [],
   "source": [
    "# app.query(\"Summarize the results of the disaster recovery exercises for each product.  Be concise and us language that is easy for non-technical people to understand.\")\n",
    "# app.query(\"What was the total recovery time for the ZEscrow application?\")\n",
    "app.query(\"According to the vulnerability management process, what is the remediation time for a high severity vulnerability?\")"
   ]
  },
  {
   "cell_type": "code",
   "execution_count": null,
   "metadata": {},
   "outputs": [],
   "source": [
    "app.query(\"Who participated in the excercise?\")"
   ]
  },
  {
   "cell_type": "code",
   "execution_count": null,
   "metadata": {},
   "outputs": [],
   "source": [
    "app.query(\"When was the excercise conducted?\")"
   ]
  },
  {
   "cell_type": "code",
   "execution_count": null,
   "metadata": {},
   "outputs": [],
   "source": [
    "app.query(\"Were there any failures or exceptions noted during the excerise?\")"
   ]
  },
  {
   "cell_type": "code",
   "execution_count": null,
   "metadata": {
    "dotnet_interactive": {
     "language": "csharp"
    },
    "polyglot_notebook": {
     "kernelName": "csharp"
    }
   },
   "outputs": [],
   "source": []
  }
 ],
 "metadata": {
  "kernelspec": {
   "display_name": "venv",
   "language": "python",
   "name": "python3"
  },
  "language_info": {
   "codemirror_mode": {
    "name": "ipython",
    "version": 3
   },
   "file_extension": ".py",
   "mimetype": "text/x-python",
   "name": "python",
   "nbconvert_exporter": "python",
   "pygments_lexer": "ipython3",
   "version": "3.11.6"
  },
  "polyglot_notebook": {
   "kernelInfo": {
    "defaultKernelName": "csharp",
    "items": [
     {
      "aliases": [],
      "name": "csharp"
     }
    ]
   }
  }
 },
 "nbformat": 4,
 "nbformat_minor": 2
}
