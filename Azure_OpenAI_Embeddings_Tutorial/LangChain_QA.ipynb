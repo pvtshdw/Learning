{
 "cells": [
  {
   "attachments": {},
   "cell_type": "markdown",
   "metadata": {},
   "source": [
    "# Demo: Answering questions from a document\n",
    "\n",
    "Referencing the following resources:\n",
    "* [https://python.langchain.com/en/latest/modules/indexes/getting_started.html](https://python.langchain.com/en/latest/modules/indexes/getting_started.html)\n",
    "* [https://python.langchain.com/en/latest/use_cases/question_answering.html](https://python.langchain.com/en/latest/use_cases/question_answering.html)\n",
    "* [https://python.langchain.com/en/latest/use_cases/question_answering/semantic-search-over-chat.html](https://python.langchain.com/en/latest/use_cases/question_answering/semantic-search-over-chat.html)\n",
    "* [https://learn.microsoft.com/en-us/azure/cognitive-services/openai/how-to/embeddings](https://learn.microsoft.com/en-us/azure/cognitive-services/openai/how-to/embeddings)\n",
    "* [https://techcommunity.microsoft.com/t5/startups-at-microsoft/use-openai-gpt-with-your-enterprise-data/ba-p/3817141](https://techcommunity.microsoft.com/t5/startups-at-microsoft/use-openai-gpt-with-your-enterprise-data/ba-p/3817141)\n",
    "\n",
    "### Supported Azure OpenAI API versions as of 5/18/2023\n",
    "* 2023-03-15-preview [Swagger spec](https://github.com/Azure/azure-rest-api-specs/blob/main/specification/cognitiveservices/data-plane/AzureOpenAI/inference/preview/2023-03-15-preview/inference.json)\n",
    "* 2022-12-01 [Swagger spec](https://github.com/Azure/azure-rest-api-specs/blob/main/specification/cognitiveservices/data-plane/AzureOpenAI/inference/stable/2022-12-01/inference.json)\n",
    "* ~~2023-05-15 [Swagger spec](https://github.com/Azure/azure-rest-api-specs/blob/main/specification/cognitiveservices/data-plane/AzureOpenAI/inference/stable/2023-05-15/inference.json)~~ *I keep getting 'Resource not found' errors with this version*"
   ]
  },
  {
   "attachments": {},
   "cell_type": "markdown",
   "metadata": {},
   "source": [
    "#### Set environment variables"
   ]
  },
  {
   "cell_type": "code",
   "execution_count": null,
   "metadata": {},
   "outputs": [],
   "source": [
    "import os\n",
    "from dotenv import load_dotenv\n",
    "\n",
    "load_dotenv(os.path(os.getcwd(), '.env'))"
   ]
  },
  {
   "attachments": {},
   "cell_type": "markdown",
   "metadata": {},
   "source": [
    "#### Load the document\n",
    "\n",
    "Mostly taken from [here](https://python.langchain.com/en/latest/use_cases/question_answering.html)"
   ]
  },
  {
   "cell_type": "code",
   "execution_count": null,
   "metadata": {},
   "outputs": [],
   "source": [
    "from langchain.document_loaders import CSVLoader #TextLoader\n",
    "from langchain.indexes import VectorstoreIndexCreator\n",
    "\n",
    "loader = VectorStore"
   ]
  }
 ],
 "metadata": {
  "language_info": {
   "name": "python"
  },
  "orig_nbformat": 4
 },
 "nbformat": 4,
 "nbformat_minor": 2
}
