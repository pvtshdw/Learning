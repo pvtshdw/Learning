{
 "cells": [
  {
   "attachments": {},
   "cell_type": "markdown",
   "metadata": {},
   "source": [
    "# Demo: Answering questions from a document\n",
    "\n",
    "Referencing the following resources:\n",
    "* [https://python.langchain.com/en/latest/modules/indexes/getting_started.html](https://python.langchain.com/en/latest/modules/indexes/getting_started.html)\n",
    "* [https://python.langchain.com/en/latest/use_cases/question_answering.html](https://python.langchain.com/en/latest/use_cases/question_answering.html)\n",
    "* [https://python.langchain.com/en/latest/use_cases/question_answering/semantic-search-over-chat.html](https://python.langchain.com/en/latest/use_cases/question_answering/semantic-search-over-chat.html)\n",
    "* [https://learn.microsoft.com/en-us/azure/cognitive-services/openai/how-to/embeddings](https://learn.microsoft.com/en-us/azure/cognitive-services/openai/how-to/embeddings)\n",
    "* [https://techcommunity.microsoft.com/t5/startups-at-microsoft/use-openai-gpt-with-your-enterprise-data/ba-p/3817141](https://techcommunity.microsoft.com/t5/startups-at-microsoft/use-openai-gpt-with-your-enterprise-data/ba-p/3817141)\n",
    "\n",
    "### Supported Azure OpenAI API versions as of 5/18/2023\n",
    "* 2023-03-15-preview [Swagger spec](https://github.com/Azure/azure-rest-api-specs/blob/main/specification/cognitiveservices/data-plane/AzureOpenAI/inference/preview/2023-03-15-preview/inference.json)\n",
    "* 2022-12-01 [Swagger spec](https://github.com/Azure/azure-rest-api-specs/blob/main/specification/cognitiveservices/data-plane/AzureOpenAI/inference/stable/2022-12-01/inference.json)\n",
    "* ~~2023-05-15 [Swagger spec](https://github.com/Azure/azure-rest-api-specs/blob/main/specification/cognitiveservices/data-plane/AzureOpenAI/inference/stable/2023-05-15/inference.json)~~ *I keep getting 'Resource not found' errors with this version*\n",
    "\n",
    "### Installing ChromaDB\n",
    "\n",
    "If you get \n",
    "> error: Microsoft Visual C++ 14.0 or greater is required. Get it with \"Microsoft C++ Build Tools\": https://visualstudio.microsoft.com/visual-cpp-build-tools/\n",
    "\n",
    "Try the following:\n",
    "* Install the build tools by downloading the installer from [here](https://visualstudio.microsoft.com/visual-cpp-build-tools/)\n",
    "* Navigate to \"Individual Components\" and select the latest:\n",
    "  * MSVCv143 - VS 2022 C++ x64/x86 build tools\n",
    "  * Windows 10 SDK \"or\" Windows 11 SDK"
   ]
  },
  {
   "attachments": {},
   "cell_type": "markdown",
   "metadata": {},
   "source": [
    "#### Set environment variables"
   ]
  },
  {
   "cell_type": "code",
   "execution_count": null,
   "metadata": {},
   "outputs": [],
   "source": [
    "import os\n",
    "\n",
    "# Load environment variables from the .env file\n",
    "from dotenv import load_dotenv\n",
    "load_dotenv(os.path.join(os.getcwd(), '.env'))"
   ]
  },
  {
   "attachments": {},
   "cell_type": "markdown",
   "metadata": {},
   "source": [
    "#### Load the document\n",
    "\n",
    "Mostly taken from [here](https://python.langchain.com/en/latest/use_cases/question_answering.html)"
   ]
  },
  {
   "cell_type": "code",
   "execution_count": null,
   "metadata": {},
   "outputs": [],
   "source": [
    "from langchain.document_loaders import CSVLoader #TextLoader\n",
    "loader = CSVLoader(os.path.join(os.getcwd(), 'bill_sum_data.csv'))"
   ]
  },
  {
   "cell_type": "code",
   "execution_count": null,
   "metadata": {},
   "outputs": [],
   "source": [
    "test_data = loader.load()\n",
    "test_data[0].page_content"
   ]
  },
  {
   "cell_type": "code",
   "execution_count": null,
   "metadata": {},
   "outputs": [],
   "source": [
    "from langchain.embeddings import OpenAIEmbeddings\n",
    "embeddingsllm = OpenAIEmbeddings(deployment=\"ZSuiteEmbeddings\", model=\"text-embedding-ada-002\", chunk_size=1)"
   ]
  },
  {
   "cell_type": "code",
   "execution_count": null,
   "metadata": {},
   "outputs": [],
   "source": [
    "from langchain.vectorstores import Chroma\n",
    "\n",
    "text = test_data[0].page_content.replace('\\n', ' ')\n",
    "\n",
    "# from langchain.text_splitter import CharacterTextSplitter\n",
    "# text_splitter = CharacterTextSplitter(chunk_size=1000, chunk_overlap=0)\n",
    "# split_text = text_splitter.split_text(text)\n",
    "\n",
    "from langchain.text_splitter import RecursiveCharacterTextSplitter\n",
    "text_splitter = RecursiveCharacterTextSplitter(chunk_size = 2048)\n",
    "texts = text_splitter.create_documents(text)\n",
    "\n",
    "from langchain.indexes import VectorstoreIndexCreator\n",
    "index = VectorstoreIndexCreator(embedding=embeddingsllm).from_documents(texts)\n",
    "\n",
    "# Create the vector store with the first document entry\n",
    "docsearch = Chroma.from_texts(test_data[0].page_content, embeddingsllm)"
   ]
  },
  {
   "cell_type": "code",
   "execution_count": null,
   "metadata": {},
   "outputs": [],
   "source": [
    "query = \"What is the title of bill 103\"\n",
    "docs = docsearch.similarity_search(query)"
   ]
  }
 ],
 "metadata": {
  "kernelspec": {
   "display_name": "venv",
   "language": "python",
   "name": "python3"
  },
  "language_info": {
   "codemirror_mode": {
    "name": "ipython",
    "version": 3
   },
   "file_extension": ".py",
   "mimetype": "text/x-python",
   "name": "python",
   "nbconvert_exporter": "python",
   "pygments_lexer": "ipython3",
   "version": "3.11.3"
  },
  "orig_nbformat": 4
 },
 "nbformat": 4,
 "nbformat_minor": 2
}
